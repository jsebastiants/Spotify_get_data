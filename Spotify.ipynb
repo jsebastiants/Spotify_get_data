{
  "nbformat": 4,
  "nbformat_minor": 0,
  "metadata": {
    "colab": {
      "name": "Spotify.ipynb",
      "provenance": [],
      "authorship_tag": "ABX9TyO1UtrqrqCgtpS28pgAfz/S",
      "include_colab_link": true
    },
    "kernelspec": {
      "name": "python3",
      "display_name": "Python 3"
    },
    "language_info": {
      "name": "python"
    }
  },
  "cells": [
    {
      "cell_type": "markdown",
      "metadata": {
        "id": "view-in-github",
        "colab_type": "text"
      },
      "source": [
        "<a href=\"https://colab.research.google.com/github/jsebastiants/Spotify_get_data/blob/main/Spotify.ipynb\" target=\"_parent\"><img src=\"https://colab.research.google.com/assets/colab-badge.svg\" alt=\"Open In Colab\"/></a>"
      ]
    },
    {
      "cell_type": "code",
      "execution_count": null,
      "metadata": {
        "id": "RtYvymcMRyZP"
      },
      "outputs": [],
      "source": [
        "!pip install mysql-connector-python\n",
        "#Librerías\n",
        "import requests\n",
        "import pandas as pd\n",
        "import datetime\n",
        "import mysql.connector"
      ]
    },
    {
      "cell_type": "code",
      "source": [
        "# Primer llamado a la API\n",
        "pageToken = ''\n",
        "headers = {\n",
        "    \"Aceppt\" : \"application/json\",\n",
        "    \"Content_type\" : \"application/json\",\n",
        "    \"Authorization\" : \"Bearer {token}\".format(token=pageToken)\n",
        "}\n",
        "\n",
        "today = datetime.datetime.now()\n",
        "yesterday = today - datetime.timedelta(hours=2)\n",
        "yesterday_unix_timestamp = int(yesterday.timestamp()) *1000\n",
        "\n",
        "url_time = 'https://api.spotify.com/v1/me/player/recently-played?after={time}'.format(time=yesterday_unix_timestamp)\n",
        "r_time = requests.get(url_time, headers=headers).json()\n",
        "r_time['items'][0]['played_at']"
      ],
      "metadata": {
        "id": "qZlNM5LpTsma"
      },
      "execution_count": null,
      "outputs": []
    },
    {
      "cell_type": "code",
      "source": [
        "uri= []\n",
        "song_names= []\n",
        "artist_names= []\n",
        "popularity= []\n",
        "\n",
        "\n",
        "\n",
        "for song in r_time['items']:\n",
        "    uri.append(song['track']['id'])\n",
        "    song_names.append(song['track']['name'])\n",
        "    artist_names.append(song['track']['artists'][0]['name'])\n",
        "    popularity.append(song['track']['popularity'])\n",
        "     \n",
        "      \n",
        "song_dict= {\n",
        "    'id':uri,\n",
        "    'song_names':song_names,\n",
        "    'artist_names':artist_names,\n",
        "    'uri':uri,\n",
        "    'popularity':popularity,\n",
        "    \n",
        "}\n",
        "\n",
        "song_df = pd.DataFrame(song_dict, columns=['uri', 'song_names', 'artist_names', 'popularity'])\n",
        "song_df = song_df.drop_duplicates()\n",
        "song_df"
      ],
      "metadata": {
        "id": "2E8vo-2_VEwk"
      },
      "execution_count": null,
      "outputs": []
    },
    {
      "cell_type": "code",
      "source": [
        "BASE_URL = 'https://api.spotify.com/v1/'\n",
        "feature_dict = {}\n",
        "track_uris = song_df['uri'].to_list()\n",
        "\n",
        "for t_uri in track_uris:\n",
        "    \n",
        "    feature_dict[t_uri] = {'popularity': 0,\n",
        "                         'acousticness': 0,\n",
        "                         'danceability': 0,\n",
        "                         'duration_ms': 0,\n",
        "                         'energy': 0,\n",
        "                         'liveness': 0,\n",
        "                         'loudness': 0,\n",
        "                         'mode': 0,\n",
        "                         'speechiness': 0,\n",
        "                         'instrumentalness': 0,\n",
        "                         'tempo': 0,\n",
        "                         'valence': 0}\n",
        "    \n",
        "    r = requests.get(BASE_URL + 'tracks/' + t_uri, headers=headers)\n",
        "    r = r.json()\n",
        "    feature_dict[t_uri]['popularity'] = r['popularity']\n",
        "    \n",
        "    s = requests.get(BASE_URL + 'audio-features/' + t_uri, headers=headers)\n",
        "    s = s.json()\n",
        "    feature_dict[t_uri]['acousticness'] = s['acousticness']\n",
        "    feature_dict[t_uri]['danceability'] = s['danceability']\n",
        "    feature_dict[t_uri]['duration_ms'] = s['duration_ms']\n",
        "    feature_dict[t_uri]['energy'] = s['energy']\n",
        "    feature_dict[t_uri]['liveness'] = s['liveness']\n",
        "    feature_dict[t_uri]['loudness'] = s['loudness']\n",
        "    feature_dict[t_uri]['mode'] = s['mode']\n",
        "    feature_dict[t_uri]['speechiness'] = s['speechiness']\n",
        "    feature_dict[t_uri]['instrumentalness'] = s['instrumentalness']\n",
        "    feature_dict[t_uri]['tempo'] = s['tempo']\n",
        "    feature_dict[t_uri]['valence'] = s['valence']"
      ],
      "metadata": {
        "id": "Tb0AXeVDbgEf"
      },
      "execution_count": null,
      "outputs": []
    },
    {
      "cell_type": "code",
      "source": [
        "df_features = pd.DataFrame.from_dict(feature_dict, orient='index')\n",
        "df_features.insert(0, 'uri', df_features.index)\n",
        "df_features.reset_index(inplace=True, drop=True)\n",
        "\n",
        "df_features.head(20)"
      ],
      "metadata": {
        "id": "K2rYV1t_bjR9"
      },
      "execution_count": null,
      "outputs": []
    },
    {
      "cell_type": "code",
      "source": [
        "#Vamos a unir las tablas\n",
        "spotify_df = pd.merge(song_df, df_features)\n",
        "spotify_df = spotify_df.drop('uri', axis=1)\n",
        "spotify_df"
      ],
      "metadata": {
        "id": "JLahRhKibwni"
      },
      "execution_count": null,
      "outputs": []
    },
    {
      "cell_type": "code",
      "source": [
        "def connect_to_db(host_name, dbname, port, username, password):\n",
        "    try:\n",
        "        conn = mysql.connector.connect(host=host_name, database=dbname, user=username, password=password, port=port)\n",
        "\n",
        "    except mysql.connector.OperationalError as e:\n",
        "        raise e\n",
        "    else:\n",
        "        print('Connected!')\n",
        "    return conn  "
      ],
      "metadata": {
        "id": "DIS3IS60byyA"
      },
      "execution_count": null,
      "outputs": []
    },
    {
      "cell_type": "code",
      "source": [
        "host_name = 'XXXX'\n",
        "dbname = \"XXXX\"\n",
        "port = 3306\n",
        "username = 'XXXX'\n",
        "password = 'XXXX'\n",
        "conn= None\n",
        "\n",
        "conn = connect_to_db(host_name, dbname, port, username, password)"
      ],
      "metadata": {
        "id": "-_Y0kAYLb3ln"
      },
      "execution_count": null,
      "outputs": []
    },
    {
      "cell_type": "code",
      "source": [
        "def create_table(curr):\n",
        "    create_table_command = (\"\"\"CREATE TABLE IF NOT EXISTS songs(\n",
        "                        song_names VARCHAR(200) PRIMARY KEY,\n",
        "                        artist_names VARCHAR(200) NOT NULL,\n",
        "                        popularity INT NOT NULL,\n",
        "                        acousticness FLOAT NOT NULL,\n",
        "                        danceability FLOAT NOT NULL,\n",
        "                        duration_ms INT NOT NULL,\n",
        "                        energy FLOAT NOT NULL,\n",
        "                        liveness FLOAT NOT NULL,\n",
        "                        loudness FLOAT NOT NULL,\n",
        "                        mode BOOL NOT NULL,\n",
        "                        speechiness FLOAT NOT NULL,\n",
        "                        instrumentalness FLOAT NOT NULL,\n",
        "                        tempo FLOAT NOT NULL, \n",
        "                        valence FLOAT NOT NULL\n",
        "                        );\"\"\")\n",
        "\n",
        "    curr.execute(create_table_command)"
      ],
      "metadata": {
        "id": "Zz75C0PzcB3d"
      },
      "execution_count": null,
      "outputs": []
    },
    {
      "cell_type": "code",
      "source": [
        "#write insert command \n",
        "def insert_into_table(curr,song_names, artist_names, popularity, acousticness, danceability, duration_ms, energy, liveness, loudness, mode, speechiness, instrumentalness, tempo, valence):\n",
        "    insert_into_songs = (\"\"\"INSERT INTO songs (`song_names`, `artist_names`, `popularity`, `acousticness`, `danceability`, `duration_ms`, `energy`, `liveness`, `loudness`, `mode`, `speechiness`, `instrumentalness`, `tempo`, `valence`)\n",
        "      VALUES(%s, %s, %s, %s, %s, %s, %s, %s, %s, %s, %s, %s, %s, %s);\"\"\")\n",
        "\n",
        "    row_to_insert = (song_names, artist_names, popularity, acousticness, danceability, duration_ms, energy, liveness, loudness, mode, speechiness, instrumentalness, tempo, valence)\n",
        "\n",
        "    curr.execute(insert_into_songs, row_to_insert)"
      ],
      "metadata": {
        "id": "LZsbEJqHcEns"
      },
      "execution_count": null,
      "outputs": []
    },
    {
      "cell_type": "code",
      "source": [
        "def append_from_df_to_db(curr, spotify_df):\n",
        "  for i, row in spotify_df.iterrows():\n",
        "      insert_into_table(curr, row['song_names'], row['artist_names'], row['popularity'], row['acousticness'], row['danceability'],\n",
        "                        row['duration_ms'], row['energy'], row['liveness'], row['loudness'], row['mode'], row['speechiness'], row['instrumentalness'], row['tempo'], row['valence'])"
      ],
      "metadata": {
        "id": "6k8fhJpfcLLq"
      },
      "execution_count": null,
      "outputs": []
    },
    {
      "cell_type": "code",
      "source": [
        "#Check if song exist in the db\n",
        "def update_db(curr, spotify_df):\n",
        "    tmp_df = pd.DataFrame(columns=['song_names', 'artist_names', 'popularity', 'acousticness', 'danceability', 'duration_ms', 'energy', 'liveness', 'loudness', 'mode', 'speechiness', 'instrumentalness', 'tempo', 'valence'])\n",
        "\n",
        "    for i, row in spotify_df.iterrows():\n",
        "          if check_if_song_exists(curr, row['song_names']): #If song already exists then we'll pass\n",
        "            pass\n",
        "          else:  #The song doesn't exists so we'll append to the db table\n",
        "            tmp_df = tmp_df.append(row)\n",
        "\n",
        "    return tmp_df"
      ],
      "metadata": {
        "id": "zraIzV-IcQsh"
      },
      "execution_count": null,
      "outputs": []
    },
    {
      "cell_type": "code",
      "source": [
        "#check_song_exist\n",
        "def check_if_song_exists(curr, song_names):\n",
        "    query = (\"\"\"SELECT song_names FROM songs WHERE song_names = %s\"\"\")\n",
        "    curr.execute(query, (song_names,))\n",
        "    \n",
        "    return curr.fetchone() is not None "
      ],
      "metadata": {
        "id": "QhaEUU7QcUKA"
      },
      "execution_count": null,
      "outputs": []
    },
    {
      "cell_type": "code",
      "source": [
        "curr = conn.cursor()"
      ],
      "metadata": {
        "id": "83doNVzicYyn"
      },
      "execution_count": null,
      "outputs": []
    },
    {
      "cell_type": "code",
      "source": [
        "curr.execute(\"CREATE DATABASE spotify_db\")"
      ],
      "metadata": {
        "id": "If-TBIHpcZUv"
      },
      "execution_count": null,
      "outputs": []
    },
    {
      "cell_type": "code",
      "source": [
        "curr.execute(\"USE spotify_db\")"
      ],
      "metadata": {
        "id": "KFHBz8zVcbnG"
      },
      "execution_count": null,
      "outputs": []
    },
    {
      "cell_type": "code",
      "source": [
        "create_table(curr)"
      ],
      "metadata": {
        "id": "Kh1_aL_gcc1W"
      },
      "execution_count": null,
      "outputs": []
    },
    {
      "cell_type": "code",
      "source": [
        "new_songs_df = update_db(curr, spotify_df)\n",
        "conn.commit()"
      ],
      "metadata": {
        "id": "bprIVvcdceIG"
      },
      "execution_count": null,
      "outputs": []
    },
    {
      "cell_type": "code",
      "source": [
        "new_songs_df"
      ],
      "metadata": {
        "id": "NH1aoacccfYl"
      },
      "execution_count": null,
      "outputs": []
    },
    {
      "cell_type": "code",
      "source": [
        "append_from_df_to_db(curr, new_songs_df)\n",
        "conn.commit()"
      ],
      "metadata": {
        "id": "ca8NEF79cgst"
      },
      "execution_count": null,
      "outputs": []
    }
  ]
}